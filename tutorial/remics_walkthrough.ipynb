{
 "cells": [
  {
   "cell_type": "code",
   "execution_count": 1,
   "metadata": {},
   "outputs": [],
   "source": [
    "\n",
    "import pandas as pd\n",
    "import numpy as np\n",
    "import os, time \n",
    "from remics import cumulants, cures, cuna\n",
    "import matplotlib.pyplot as plt\n",
    "import seaborn as sns\n"
   ]
  },
  {
   "cell_type": "markdown",
   "metadata": {},
   "source": [
    "### Read data\n",
    "We use a sample data from TCGA Breast cancer study. We have selected a subset of mRNAs, miRNAs and proteins which are associated with breast cancer in this data."
   ]
  },
  {
   "cell_type": "code",
   "execution_count": 2,
   "metadata": {},
   "outputs": [
    {
     "name": "stdout",
     "output_type": "stream",
     "text": [
      "X and y dimensions match!\n",
      "\n",
      "Number of individuals:  180\n",
      "Number of features:  43\n",
      "\n",
      "Number of each subtype:  x\n",
      "Basal    54\n",
      "Her2     35\n",
      "LumA     91\n",
      "dtype: int64\n"
     ]
    }
   ],
   "source": [
    "df = pd.read_csv('../data/tcga_brca_forcuna.csv')\n",
    "df.index=df['ID']\n",
    "df.drop(['ID'], axis=1, inplace=True)\n",
    "\n",
    "target = pd.read_csv('../data/tcga_subtypes_train.csv')\n",
    "y = target['x'].map({'Basal':1, 'Her2':2, 'LumA': 3})\n",
    "\n",
    "assert df.shape[0] == len(y)\n",
    "print('X and y dimensions match!\\n')\n",
    "\n",
    "print(\"Number of individuals: \", df.shape[0])\n",
    "print(\"Number of features: \", df.shape[1])\n",
    "print(\"\\nNumber of each subtype: \", target.groupby('x').size())"
   ]
  },
  {
   "cell_type": "markdown",
   "metadata": {},
   "source": [
    "\n",
    "### Computing Cumulants\n",
    "\n",
    "Pre-requisites if using Julia Cumulants i.e. julia = 1:\n",
    "\n",
    "* Install Julia to your environment:\n",
    "\n",
    "    + `wget https://julialang-s3.julialang.org/bin/linux/x64/1.9/julia-1.9.2-linux-x86_64.tar.gz`\n",
    "\n",
    "    + `tar zxvf julia-1.9.2-linux-x86_64.tar.gz`\n",
    "\n",
    "* Export path to Julia:\n",
    "    + `export PATH = \"$PATH:/data/shared/user/julia-1.9.2/bin\"`\n",
    "    \n",
    "* Launch Julia and install packages for computing cumulants:\n",
    "\n",
    "    ```\n",
    "    using Pkg\n",
    "    Pkg.add.([\"Cumulants\", \"NPZ\", \"LinearAlgebra\", \"Random\", \"Statistics\"])\n",
    "    ```\n",
    "\n",
    "\n"
   ]
  },
  {
   "cell_type": "code",
   "execution_count": 3,
   "metadata": {},
   "outputs": [
    {
     "name": "stdout",
     "output_type": "stream",
     "text": [
      "computing cumulants (Julia)...\n",
      "running: julia /dccstor/boseukb/conda/sow30/lib/python3.11/site-packages/remics/cumulants.jl /dccstor/boseukb/conda/sow30/lib/python3.11/site-packages/remics/ 3\n",
      "Command executed successfully.\n",
      "\n",
      "Time spent computing cumulants (mins):  0.2696907838185628\n"
     ]
    }
   ],
   "source": [
    "beg_time = time.time()\n",
    "cumulants_df, vec_df = cumulants.get_cumulants(df, verbose = 1, julia = 1, order = 3)\n",
    "print(\"Time spent computing cumulants (mins): \", (time.time() - beg_time)/60)"
   ]
  },
  {
   "cell_type": "markdown",
   "metadata": {},
   "source": [
    "### Filter significant cumulants"
   ]
  },
  {
   "cell_type": "code",
   "execution_count": 4,
   "metadata": {},
   "outputs": [
    {
     "name": "stdout",
     "output_type": "stream",
     "text": [
      "Number of significant redescription groups:  4241\n"
     ]
    }
   ],
   "source": [
    "filt_cumulants_df = cumulants_df[cumulants_df['P'] < 0.05]  \n",
    "filt_vec_df = vec_df[vec_df.k.isin(list(filt_cumulants_df.index))]\n",
    "print(\"Number of significant redescription groups: \", filt_vec_df.shape[0])"
   ]
  },
  {
   "cell_type": "markdown",
   "metadata": {},
   "source": [
    "### Print cumulant statistics"
   ]
  },
  {
   "cell_type": "code",
   "execution_count": 5,
   "metadata": {},
   "outputs": [
    {
     "name": "stdout",
     "output_type": "stream",
     "text": [
      "Cumulant statistics \n",
      "\n",
      "                                    k_res      Mean    StdDev         Z  \\\n",
      "index                                                                     \n",
      "CCNA2&LRIG1&hsa-mir-197         -0.161069 -0.003175  0.078330 -2.015763   \n",
      "KDM4B&hsa-mir-106b&hsa-mir-146a -0.171406 -0.001692  0.076792 -2.210054   \n",
      "MED13L&NTN4&hsa-mir-106a         0.145065  0.006503  0.068045  2.036307   \n",
      "\n",
      "                                        P  \n",
      "index                                      \n",
      "CCNA2&LRIG1&hsa-mir-197          0.043825  \n",
      "KDM4B&hsa-mir-106b&hsa-mir-146a  0.027101  \n",
      "MED13L&NTN4&hsa-mir-106a         0.041720  \n",
      "\n",
      " ------------\n"
     ]
    }
   ],
   "source": [
    "print(\"Cumulant statistics \\n\")\n",
    "print(filt_cumulants_df.sample(n=3))\n",
    "print(\"\\n ------------\")\n"
   ]
  },
  {
   "cell_type": "markdown",
   "metadata": {},
   "source": [
    "## CuRES"
   ]
  },
  {
   "cell_type": "code",
   "execution_count": 6,
   "metadata": {},
   "outputs": [
    {
     "name": "stdout",
     "output_type": "stream",
     "text": [
      "**************************************\n",
      "CuReS prediction statistics\n",
      "**************************************\n",
      "-------------------------------------\n",
      "Model fitting complete\n",
      "-------------------------------------\n",
      "F1 score of fitted model on test data:  0.9167844657242742\n",
      "-------------------------------------\n",
      "**************************************\n",
      "Time spent computing cures (mins):  0.04987299839655558\n"
     ]
    }
   ],
   "source": [
    "beg_time = time.time()\n",
    "\n",
    "cures_vec, res = cures.get_cures(filt_vec_df.set_index('k').T, \n",
    "                                        y, \n",
    "                                        verbose=1,               \n",
    "                                        multi_class=True)\n",
    "\n",
    "print(\"Time spent computing cures (mins): \", (time.time() - beg_time)/60)"
   ]
  },
  {
   "cell_type": "markdown",
   "metadata": {},
   "source": [
    "## Computing CuNA (Cumulant-based network analysis)\n",
    "CuNA returns the following:\n",
    "    1. A dataframe with edges in its rows and the connected vertices in columns along with the statistical significance (measured by p-value) from the Fisher Exact test. \n",
    "    2. **count** or weight of the edge. \n",
    "    3. A dataframe of varying row lengths (contains None for empty fields) with the community membership information for all the vertices. \n",
    "    4. A dataframe with node rank. A score indicating the importance of each vertex across different centrality measures. The lower the score means higher the importance. "
   ]
  },
  {
   "cell_type": "code",
   "execution_count": 7,
   "metadata": {},
   "outputs": [
    {
     "name": "stdout",
     "output_type": "stream",
     "text": [
      "{'NTN4': [1, 16, 8, 4, 1], 'LMO4': [2, 10, 9, 5, 5], 'hsa-mir-106a': [3, 6, 10, 6, 3], 'CSRP2': [4, 25, 3, 2, 4], 'C4orf34': [5, 27, 1, 1, 10], 'hsa-mir-186': [6, 3, 17, 14, 2], 'hsa-mir-146a': [7, 9, 14, 13, 6], 'SLC43A3': [8, 11, 11, 7, 16], 'hsa-mir-532': [9, 1, 21, 23, 7], 'SEMA3C': [10, 29, 2, 3, 17], 'hsa-mir-130b': [11, 15, 26, 17, 9], 'PREX1': [12, 22, 4, 8, 13], 'LRIG1': [13, 4, 25, 29, 15], 'hsa-mir-1301': [14, 2, 13, 15], 'TTC39A': [15, 17, 12, 12, 8], 'ZNF552': [16, 13, 16, 18, 19], 'hsa-mir-590': [17, 14, 23, 21, 12], 'hsa-mir-20a': [18, 26, 6, 9, 20], 'hsa-mir-93': [19, 21, 20, 16, 18], 'hsa-mir-197': [20, 5, 22, 26, 14], 'CCNA2': [21, 23, 24, 22, 21], 'hsa-let-7d': [22, 24, 29, 19, 11], 'DTWD2': [23, 19, 19, 24], 'hsa-mir-106b': [24, 18, 32, 25], 'E2F1': [25, 20, 30, 30], 'FUT8': [26, 28, 15, 20], 'hsa-mir-17': [27, 30, 7, 11], 'KDM4B': [28, 8, 31, 32], 'hsa-mir-505': [29, 31, 5, 10], 'ASPM': [30, 7, 28, 31], 'FMNL2': [31, 12, 18, 27], 'MEX3A': [32, 32, 27, 28]}\n",
      "Time spent computing CuNA network (mins):  0.08470370372136433\n"
     ]
    },
    {
     "name": "stderr",
     "output_type": "stream",
     "text": [
      "/dccstor/boseukb/conda/sow30/lib/python3.11/site-packages/remics/cuna.py:174: FutureWarning: The behavior of DataFrame concatenation with empty or all-NA entries is deprecated. In a future version, this will no longer exclude empty or all-NA columns when determining the result dtypes. To retain the old behavior, exclude the relevant entries before the concat operation.\n",
      "  final_df = pd.concat(appended_df)\n"
     ]
    }
   ],
   "source": [
    "beg_time = time.time()\n",
    "p = [1e-2, 1e-5, 1e-8]\n",
    "interactions, nodes, communities, noderank = cuna.get_network(cumulants_df.reset_index().copy(),\n",
    "                                                            0, \n",
    "                                                            p, \n",
    "                                                            verbose=0)\n",
    "print(\"Time spent computing CuNA network (mins): \", (time.time() - beg_time)/60)"
   ]
  },
  {
   "cell_type": "code",
   "execution_count": 8,
   "metadata": {},
   "outputs": [
    {
     "name": "stdout",
     "output_type": "stream",
     "text": [
      "              v1            v2      pval  count                     edge_pair\n",
      "90   hsa-mir-186         CCNA2  0.008202      4          (CCNA2, hsa-mir-186)\n",
      "24   hsa-mir-505        SEMA3C  0.000416     18         (SEMA3C, hsa-mir-505)\n",
      "1   hsa-mir-106a  hsa-mir-146a  0.000005      4  (hsa-mir-106a, hsa-mir-146a)\n",
      "16  hsa-mir-146a  hsa-mir-130b  0.000199      3  (hsa-mir-130b, hsa-mir-146a)\n"
     ]
    }
   ],
   "source": [
    "print(interactions.sample(4))"
   ]
  },
  {
   "cell_type": "code",
   "execution_count": 9,
   "metadata": {},
   "outputs": [
    {
     "data": {
      "text/html": [
       "<div>\n",
       "<style scoped>\n",
       "    .dataframe tbody tr th:only-of-type {\n",
       "        vertical-align: middle;\n",
       "    }\n",
       "\n",
       "    .dataframe tbody tr th {\n",
       "        vertical-align: top;\n",
       "    }\n",
       "\n",
       "    .dataframe thead th {\n",
       "        text-align: right;\n",
       "    }\n",
       "</style>\n",
       "<table border=\"1\" class=\"dataframe\">\n",
       "  <thead>\n",
       "    <tr style=\"text-align: right;\">\n",
       "      <th></th>\n",
       "      <th>0</th>\n",
       "      <th>1</th>\n",
       "      <th>2</th>\n",
       "      <th>3</th>\n",
       "      <th>4</th>\n",
       "      <th>5</th>\n",
       "      <th>6</th>\n",
       "      <th>7</th>\n",
       "    </tr>\n",
       "  </thead>\n",
       "  <tbody>\n",
       "    <tr>\n",
       "      <th>Community0</th>\n",
       "      <td>PREX1</td>\n",
       "      <td>KDM4B</td>\n",
       "      <td>CSRP2</td>\n",
       "      <td>hsa-mir-1301</td>\n",
       "      <td>SEMA3C</td>\n",
       "      <td>LRIG1</td>\n",
       "      <td>hsa-mir-505</td>\n",
       "      <td>ZNF552</td>\n",
       "    </tr>\n",
       "    <tr>\n",
       "      <th>Community1</th>\n",
       "      <td>FMNL2</td>\n",
       "      <td>hsa-mir-590</td>\n",
       "      <td>FUT8</td>\n",
       "      <td>LMO4</td>\n",
       "      <td>CCNA2</td>\n",
       "      <td>NTN4</td>\n",
       "      <td>ASPM</td>\n",
       "      <td>None</td>\n",
       "    </tr>\n",
       "    <tr>\n",
       "      <th>Community2</th>\n",
       "      <td>hsa-mir-130b</td>\n",
       "      <td>E2F1</td>\n",
       "      <td>hsa-mir-106b</td>\n",
       "      <td>hsa-mir-532</td>\n",
       "      <td>hsa-let-7d</td>\n",
       "      <td>DTWD2</td>\n",
       "      <td>MEX3A</td>\n",
       "      <td>None</td>\n",
       "    </tr>\n",
       "    <tr>\n",
       "      <th>Community3</th>\n",
       "      <td>hsa-mir-20a</td>\n",
       "      <td>hsa-mir-146a</td>\n",
       "      <td>hsa-mir-17</td>\n",
       "      <td>hsa-mir-197</td>\n",
       "      <td>C4orf34</td>\n",
       "      <td>hsa-mir-186</td>\n",
       "      <td>None</td>\n",
       "      <td>None</td>\n",
       "    </tr>\n",
       "    <tr>\n",
       "      <th>Community4</th>\n",
       "      <td>SLC43A3</td>\n",
       "      <td>TTC39A</td>\n",
       "      <td>hsa-mir-93</td>\n",
       "      <td>hsa-mir-106a</td>\n",
       "      <td>None</td>\n",
       "      <td>None</td>\n",
       "      <td>None</td>\n",
       "      <td>None</td>\n",
       "    </tr>\n",
       "  </tbody>\n",
       "</table>\n",
       "</div>"
      ],
      "text/plain": [
       "                       0             1             2             3  \\\n",
       "Community0         PREX1         KDM4B         CSRP2  hsa-mir-1301   \n",
       "Community1         FMNL2   hsa-mir-590          FUT8          LMO4   \n",
       "Community2  hsa-mir-130b          E2F1  hsa-mir-106b   hsa-mir-532   \n",
       "Community3   hsa-mir-20a  hsa-mir-146a    hsa-mir-17   hsa-mir-197   \n",
       "Community4       SLC43A3        TTC39A    hsa-mir-93  hsa-mir-106a   \n",
       "\n",
       "                     4            5            6       7  \n",
       "Community0      SEMA3C        LRIG1  hsa-mir-505  ZNF552  \n",
       "Community1       CCNA2         NTN4         ASPM    None  \n",
       "Community2  hsa-let-7d        DTWD2        MEX3A    None  \n",
       "Community3     C4orf34  hsa-mir-186         None    None  \n",
       "Community4        None         None         None    None  "
      ]
     },
     "execution_count": 9,
     "metadata": {},
     "output_type": "execute_result"
    }
   ],
   "source": [
    "communities"
   ]
  },
  {
   "cell_type": "code",
   "execution_count": 10,
   "metadata": {},
   "outputs": [
    {
     "data": {
      "text/html": [
       "<div>\n",
       "<style scoped>\n",
       "    .dataframe tbody tr th:only-of-type {\n",
       "        vertical-align: middle;\n",
       "    }\n",
       "\n",
       "    .dataframe tbody tr th {\n",
       "        vertical-align: top;\n",
       "    }\n",
       "\n",
       "    .dataframe thead th {\n",
       "        text-align: right;\n",
       "    }\n",
       "</style>\n",
       "<table border=\"1\" class=\"dataframe\">\n",
       "  <thead>\n",
       "    <tr style=\"text-align: right;\">\n",
       "      <th></th>\n",
       "      <th>Node</th>\n",
       "      <th>Score</th>\n",
       "    </tr>\n",
       "  </thead>\n",
       "  <tbody>\n",
       "    <tr>\n",
       "      <th>8</th>\n",
       "      <td>hsa-mir-532</td>\n",
       "      <td>12.2</td>\n",
       "    </tr>\n",
       "    <tr>\n",
       "      <th>1</th>\n",
       "      <td>LMO4</td>\n",
       "      <td>6.2</td>\n",
       "    </tr>\n",
       "    <tr>\n",
       "      <th>30</th>\n",
       "      <td>FMNL2</td>\n",
       "      <td>22.0</td>\n",
       "    </tr>\n",
       "    <tr>\n",
       "      <th>18</th>\n",
       "      <td>hsa-mir-93</td>\n",
       "      <td>18.8</td>\n",
       "    </tr>\n",
       "  </tbody>\n",
       "</table>\n",
       "</div>"
      ],
      "text/plain": [
       "           Node  Score\n",
       "8   hsa-mir-532   12.2\n",
       "1          LMO4    6.2\n",
       "30        FMNL2   22.0\n",
       "18   hsa-mir-93   18.8"
      ]
     },
     "execution_count": 10,
     "metadata": {},
     "output_type": "execute_result"
    }
   ],
   "source": [
    "noderank.sample(4)"
   ]
  }
 ],
 "metadata": {
  "kernelspec": {
   "display_name": "Python 3",
   "language": "python",
   "name": "python3"
  },
  "language_info": {
   "codemirror_mode": {
    "name": "ipython",
    "version": 3
   },
   "file_extension": ".py",
   "mimetype": "text/x-python",
   "name": "python",
   "nbconvert_exporter": "python",
   "pygments_lexer": "ipython3",
   "version": "3.11.9"
  }
 },
 "nbformat": 4,
 "nbformat_minor": 2
}
